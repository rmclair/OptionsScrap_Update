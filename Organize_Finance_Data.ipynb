{
 "cells": [
  {
   "cell_type": "code",
   "execution_count": 15,
   "metadata": {},
   "outputs": [
    {
     "name": "stdout",
     "output_type": "stream",
     "text": [
      "the maximum return is: 6019.0 of file: BUD_January 19, 2018.csv\n",
      "the required investment is: $0.0\n",
      "Unnamed: 0      BUD180119C00065000\n",
      "IV                               0\n",
      "b-even_Price                    65\n",
      "contract                      CALL\n",
      "diff                        -60.19\n",
      "h_return                      6124\n",
      "l_return                      5914\n",
      "last price                       0\n",
      "return                        6019\n",
      "strike                          65\n",
      "volume                           0\n",
      "Name: 1, dtype: object\n"
     ]
    }
   ],
   "source": [
    "##read csv file\n",
    "import pandas as pd\n",
    "import os\n",
    "\n",
    "tikr = 'BUD'\n",
    "pdate = 'Oct_17_2017'\n",
    "path = tikr+'_'+pdate\n",
    "f = os.listdir(path)\n",
    "\n",
    "#determine maximum contract and report value\n",
    "mx = 0\n",
    "lname = []\n",
    "for i in range(len(f)):\n",
    "    rd = pd.read_csv(path+'/'+f[i])\n",
    "    rturn = rd.loc[:, 'return']\n",
    "    if rturn.max() > mx:\n",
    "        mx = rturn.max()\n",
    "        maxp = f[i]\n",
    "        ix = rturn.idxmax()\n",
    "        lname = rd\n",
    "invest = '$'+str(lname.loc[ix]['last price']*100)\n",
    "print('the maximum return is: ' + str(mx) + ' of file: ' + maxp)\n",
    "print('the required investment is: '+invest)\n",
    "print(lname.loc[ix][:])\n",
    "\n"
   ]
  },
  {
   "cell_type": "code",
   "execution_count": 16,
   "metadata": {},
   "outputs": [
    {
     "name": "stdout",
     "output_type": "stream",
     "text": [
      "the minimum investment is: 0.0 of file: BUD_January 19, 2018.csv\n",
      "Unnamed: 0      BUD180119C00065000\n",
      "IV                               0\n",
      "b-even_Price                    65\n",
      "contract                      CALL\n",
      "diff                        -60.19\n",
      "h_return                      6124\n",
      "l_return                      5914\n",
      "last price                       0\n",
      "return                        6019\n",
      "strike                          65\n",
      "volume                           0\n",
      "Name: 1, dtype: object\n"
     ]
    }
   ],
   "source": [
    "##read csv file\n",
    "import pandas as pd\n",
    "import os\n",
    "\n",
    "tikr = 'BUD'\n",
    "pdate = 'Oct_17_2017'\n",
    "path = tikr+'_'+pdate\n",
    "f = os.listdir(path)\n",
    "mn = 5\n",
    "lname = []\n",
    "for i in range(len(f)):\n",
    "    rd = pd.read_csv(path+'/'+f[i])\n",
    "    price = rd.loc[:]['last price']\n",
    "    if price.min() < mn:\n",
    "        mn = price.min()\n",
    "        mnp = f[i]\n",
    "        ix = price.idxmin()\n",
    "        lname = rd\n",
    "#invest = '$'+str(lname.loc[ix]['last price']*100)\n",
    "print('the minimum investment is: ' + str(mn) + ' of file: ' + mnp)\n",
    "print(lname.loc[ix][:])\n"
   ]
  },
  {
   "cell_type": "code",
   "execution_count": 14,
   "metadata": {},
   "outputs": [
    {
     "name": "stdout",
     "output_type": "stream",
     "text": [
      "0.0 6019.0\n"
     ]
    }
   ],
   "source": [
    "##optimization function max (return > 0 + strike < max, weight equally\n",
    "\n",
    "##read csv file\n",
    "import pandas as pd\n",
    "import os\n",
    "\n",
    "tikr = 'BUD'\n",
    "pdate = 'Oct_17_2017'\n",
    "path = tikr+'_'+pdate\n",
    "f = os.listdir(path)\n",
    "\n",
    "mx = 0\n",
    "mn = 5\n",
    "lname = []\n",
    "\n",
    "for i in range(len(f)):\n",
    "    rd = pd.read_csv(path+'/'+f[i])\n",
    "    rturn = rd.loc[:, 'return']\n",
    "    price = rd.loc[:]['last price']\n",
    "    if price.min() < mn:\n",
    "        mn = price.min()\n",
    "    if rturn.max() > mx:\n",
    "        mx = rturn.max()\n",
    "print(mn, mx)\n",
    "\n",
    "opt = 1\n",
    "h = 0\n",
    "l = 0\n",
    "val = 0\n",
    "file = 'empty'\n",
    "for i in range (len(f)):\n",
    "    rd = pd.read_csv(path+'/'+f[i])\n",
    "    rturn = rd.loc[:, 'return']/mx\n",
    "    price = mn/rd.loc[:]['last price']\n",
    "    fun = abs(rturn*0.5 + price*0.5 -1)\n",
    "    if fun.min()<opt:\n",
    "        opt = fun.min()\n",
    "        file = f[i]\n",
    "print(opt, file)   \n"
   ]
  }
 ],
 "metadata": {
  "kernelspec": {
   "display_name": "Python 3",
   "language": "python",
   "name": "python3"
  },
  "language_info": {
   "codemirror_mode": {
    "name": "ipython",
    "version": 3
   },
   "file_extension": ".py",
   "mimetype": "text/x-python",
   "name": "python",
   "nbconvert_exporter": "python",
   "pygments_lexer": "ipython3",
   "version": "3.6.1"
  }
 },
 "nbformat": 4,
 "nbformat_minor": 2
}
